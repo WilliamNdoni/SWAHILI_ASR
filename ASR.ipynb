{
 "cells": [
  {
   "cell_type": "markdown",
   "id": "8035b362",
   "metadata": {},
   "source": [
    "## Automatic Speech Recognition(ASR) for Swahili."
   ]
  },
  {
   "cell_type": "markdown",
   "id": "147642d6",
   "metadata": {},
   "source": [
    "### Business understanding."
   ]
  },
  {
   "cell_type": "markdown",
   "id": "7572e9f8",
   "metadata": {},
   "source": [
    "Automatic speech recognition (ASR) is a computer speech recognition that enables a program to process human speech into written format. A Swahili ASR is, therefore, capable of converting Swahili speech to written format. Such a program will be of use to swahili Speakers and can be used in various applications, for instance, search by voice on websites and building of virtual assistant technology based on the ASR model. Swahili language spoken in various countries especially in East and Central Africa. The Swahili ASR will be of use to many people. Consequently, the aim of this project will be to build an Automatic Speech Recognition Model for the Swahili language and deploy as a web service using flask."
   ]
  },
  {
   "cell_type": "markdown",
   "id": "2e8392bb",
   "metadata": {},
   "source": [
    "### Data understanding"
   ]
  },
  {
   "cell_type": "markdown",
   "id": "c578d045",
   "metadata": {},
   "source": [
    "The data that will be used in this project was obtained from [Mozilla Common Voice](https://commonvoice.mozilla.org/en/datasets). It contains thousands of audios in Swahili and their corresponding transcripitions. The audios are diverse to ensure that the model is trained on various voices and avoid building a biased model. The corresponding transcriptions will also be used to train the model. An extra fine-tuned Swahili language model will be used to improve the models output and ensure that the written format is as close as possible to the speech."
   ]
  },
  {
   "cell_type": "markdown",
   "id": "203a1741",
   "metadata": {},
   "source": [
    "### Exploring the dataset"
   ]
  },
  {
   "cell_type": "code",
   "execution_count": 7,
   "id": "87a7bf43",
   "metadata": {},
   "outputs": [
    {
     "data": {
      "text/html": [
       "<div>\n",
       "<style scoped>\n",
       "    .dataframe tbody tr th:only-of-type {\n",
       "        vertical-align: middle;\n",
       "    }\n",
       "\n",
       "    .dataframe tbody tr th {\n",
       "        vertical-align: top;\n",
       "    }\n",
       "\n",
       "    .dataframe thead th {\n",
       "        text-align: right;\n",
       "    }\n",
       "</style>\n",
       "<table border=\"1\" class=\"dataframe\">\n",
       "  <thead>\n",
       "    <tr style=\"text-align: right;\">\n",
       "      <th></th>\n",
       "      <th>client_id</th>\n",
       "      <th>path</th>\n",
       "      <th>sentence</th>\n",
       "      <th>up_votes</th>\n",
       "      <th>down_votes</th>\n",
       "      <th>age</th>\n",
       "      <th>gender</th>\n",
       "      <th>accents</th>\n",
       "      <th>variant</th>\n",
       "      <th>locale</th>\n",
       "      <th>segment</th>\n",
       "    </tr>\n",
       "  </thead>\n",
       "  <tbody>\n",
       "    <tr>\n",
       "      <th>0</th>\n",
       "      <td>0133d8ddf5c1a3c678fde017e0b07d2835bfd707d5b3ec...</td>\n",
       "      <td>common_voice_sw_31428161.mp3</td>\n",
       "      <td>wachambuzi wa soka wanamtaja Messi kama nyota ...</td>\n",
       "      <td>2</td>\n",
       "      <td>0</td>\n",
       "      <td>twenties</td>\n",
       "      <td>female</td>\n",
       "      <td>NaN</td>\n",
       "      <td>NaN</td>\n",
       "      <td>sw</td>\n",
       "      <td>NaN</td>\n",
       "    </tr>\n",
       "    <tr>\n",
       "      <th>1</th>\n",
       "      <td>41ba4752c376dc7f0502f9c97728bf2f54e47972f3b6e4...</td>\n",
       "      <td>common_voice_sw_30356664.mp3</td>\n",
       "      <td>wachambuzi wa soka wanamtaja Messi kama nyota ...</td>\n",
       "      <td>2</td>\n",
       "      <td>0</td>\n",
       "      <td>fourties</td>\n",
       "      <td>female</td>\n",
       "      <td>NaN</td>\n",
       "      <td>NaN</td>\n",
       "      <td>sw</td>\n",
       "      <td>NaN</td>\n",
       "    </tr>\n",
       "    <tr>\n",
       "      <th>2</th>\n",
       "      <td>01c95772efd3fbe4a1122206c7474c77ed6591c8c9fb00...</td>\n",
       "      <td>common_voice_sw_30317714.mp3</td>\n",
       "      <td>romario aliingia kwenye orodha ya wachezaji wa...</td>\n",
       "      <td>2</td>\n",
       "      <td>1</td>\n",
       "      <td>NaN</td>\n",
       "      <td>NaN</td>\n",
       "      <td>NaN</td>\n",
       "      <td>NaN</td>\n",
       "      <td>sw</td>\n",
       "      <td>NaN</td>\n",
       "    </tr>\n",
       "    <tr>\n",
       "      <th>3</th>\n",
       "      <td>055aa825d52f0b81c0861c88ba4999b8bf91b92e90866c...</td>\n",
       "      <td>common_voice_sw_30055356.mp3</td>\n",
       "      <td>romario aliingia kwenye orodha ya wachezaji wa...</td>\n",
       "      <td>2</td>\n",
       "      <td>1</td>\n",
       "      <td>twenties</td>\n",
       "      <td>female</td>\n",
       "      <td>NaN</td>\n",
       "      <td>NaN</td>\n",
       "      <td>sw</td>\n",
       "      <td>NaN</td>\n",
       "    </tr>\n",
       "    <tr>\n",
       "      <th>4</th>\n",
       "      <td>0244639ffd7ec755a01b21ea204735ca3c44443e9cf46c...</td>\n",
       "      <td>common_voice_sw_29002392.mp3</td>\n",
       "      <td>Inajulikana kama shina la Warangi.</td>\n",
       "      <td>2</td>\n",
       "      <td>0</td>\n",
       "      <td>NaN</td>\n",
       "      <td>NaN</td>\n",
       "      <td>NaN</td>\n",
       "      <td>NaN</td>\n",
       "      <td>sw</td>\n",
       "      <td>NaN</td>\n",
       "    </tr>\n",
       "  </tbody>\n",
       "</table>\n",
       "</div>"
      ],
      "text/plain": [
       "                                           client_id  \\\n",
       "0  0133d8ddf5c1a3c678fde017e0b07d2835bfd707d5b3ec...   \n",
       "1  41ba4752c376dc7f0502f9c97728bf2f54e47972f3b6e4...   \n",
       "2  01c95772efd3fbe4a1122206c7474c77ed6591c8c9fb00...   \n",
       "3  055aa825d52f0b81c0861c88ba4999b8bf91b92e90866c...   \n",
       "4  0244639ffd7ec755a01b21ea204735ca3c44443e9cf46c...   \n",
       "\n",
       "                           path  \\\n",
       "0  common_voice_sw_31428161.mp3   \n",
       "1  common_voice_sw_30356664.mp3   \n",
       "2  common_voice_sw_30317714.mp3   \n",
       "3  common_voice_sw_30055356.mp3   \n",
       "4  common_voice_sw_29002392.mp3   \n",
       "\n",
       "                                            sentence  up_votes  down_votes  \\\n",
       "0  wachambuzi wa soka wanamtaja Messi kama nyota ...         2           0   \n",
       "1  wachambuzi wa soka wanamtaja Messi kama nyota ...         2           0   \n",
       "2  romario aliingia kwenye orodha ya wachezaji wa...         2           1   \n",
       "3  romario aliingia kwenye orodha ya wachezaji wa...         2           1   \n",
       "4                 Inajulikana kama shina la Warangi.         2           0   \n",
       "\n",
       "        age  gender accents variant locale  segment  \n",
       "0  twenties  female     NaN     NaN     sw      NaN  \n",
       "1  fourties  female     NaN     NaN     sw      NaN  \n",
       "2       NaN     NaN     NaN     NaN     sw      NaN  \n",
       "3  twenties  female     NaN     NaN     sw      NaN  \n",
       "4       NaN     NaN     NaN     NaN     sw      NaN  "
      ]
     },
     "execution_count": 7,
     "metadata": {},
     "output_type": "execute_result"
    }
   ],
   "source": [
    "# Importing the relevant libraries\n",
    "import pandas as pd\n",
    "# Loading the dataset with transcirpitions\n",
    "transcriptions = pd.read_csv(\"train.tsv\",sep =\"\\t\",low_memory = False)\n",
    "transcriptions.head(5)"
   ]
  },
  {
   "cell_type": "code",
   "execution_count": 8,
   "id": "48c90443",
   "metadata": {},
   "outputs": [
    {
     "name": "stdout",
     "output_type": "stream",
     "text": [
      "82070\n"
     ]
    }
   ],
   "source": [
    "# Exploring the length of the tsv file\n",
    "print(len(transcriptions))"
   ]
  },
  {
   "cell_type": "code",
   "execution_count": 13,
   "id": "d28cdee4",
   "metadata": {},
   "outputs": [
    {
     "data": {
      "text/plain": [
       "26616"
      ]
     },
     "execution_count": 13,
     "metadata": {},
     "output_type": "execute_result"
    }
   ],
   "source": [
    "# Exploring how many transcriptions have down votes\n",
    "len(transcriptions[transcriptions[\"down_votes\"]>0])"
   ]
  },
  {
   "cell_type": "code",
   "execution_count": null,
   "id": "6cd23927",
   "metadata": {},
   "outputs": [],
   "source": []
  }
 ],
 "metadata": {
  "kernelspec": {
   "display_name": "Python 3 (ipykernel)",
   "language": "python",
   "name": "python3"
  },
  "language_info": {
   "codemirror_mode": {
    "name": "ipython",
    "version": 3
   },
   "file_extension": ".py",
   "mimetype": "text/x-python",
   "name": "python",
   "nbconvert_exporter": "python",
   "pygments_lexer": "ipython3",
   "version": "3.10.11"
  }
 },
 "nbformat": 4,
 "nbformat_minor": 5
}
