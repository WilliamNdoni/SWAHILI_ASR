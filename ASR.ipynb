{
 "cells": [
  {
   "cell_type": "markdown",
   "id": "8035b362",
   "metadata": {},
   "source": [
    "## Automatic Speech Recognition(ASR) for Swahili."
   ]
  },
  {
   "cell_type": "markdown",
   "id": "147642d6",
   "metadata": {},
   "source": [
    "### Business understanding."
   ]
  },
  {
   "cell_type": "markdown",
   "id": "7572e9f8",
   "metadata": {},
   "source": [
    "Automatic speech recognition (ASR) is a computer speech recognition that enables a program to process human speech into written format. A Swahili ASR is, therefore, capable of converting Swahili speech to written format. Such a program will be of use to swahili Speakers and can be used in various applications, for instance, search by voice on websites and building of virtual assistant technology based on the ASR model. Swahili language spoken in various countries especially in East and Central Africa. The Swahili ASR will be of use to many people. Consequently, the aim of this project will be to build an Automatic Speech Recognition Model for the Swahili language and deploy as a web service using flask."
   ]
  },
  {
   "cell_type": "markdown",
   "id": "2e8392bb",
   "metadata": {},
   "source": [
    "### Data understanding"
   ]
  },
  {
   "cell_type": "markdown",
   "id": "c578d045",
   "metadata": {},
   "source": [
    "The data that will be used in this project was obtained from [Mozilla Common Voice](https://commonvoice.mozilla.org/en/datasets). It contains thousands of audios in Swahili and their corresponding transcripitions. The audios are diverse to ensure that the model is trained on various voices and avoid building a biased model. The corresponding transcriptions will also be used to train the model. An extra fine-tuned Swahili language model will be used to improve the models output and ensure that the written format is as close as possible to the speech."
   ]
  },
  {
   "cell_type": "markdown",
   "id": "203a1741",
   "metadata": {},
   "source": [
    "### Exploring the dataset"
   ]
  },
  {
   "cell_type": "code",
   "execution_count": 1,
   "id": "87a7bf43",
   "metadata": {},
   "outputs": [
    {
     "data": {
      "text/html": [
       "<div>\n",
       "<style scoped>\n",
       "    .dataframe tbody tr th:only-of-type {\n",
       "        vertical-align: middle;\n",
       "    }\n",
       "\n",
       "    .dataframe tbody tr th {\n",
       "        vertical-align: top;\n",
       "    }\n",
       "\n",
       "    .dataframe thead th {\n",
       "        text-align: right;\n",
       "    }\n",
       "</style>\n",
       "<table border=\"1\" class=\"dataframe\">\n",
       "  <thead>\n",
       "    <tr style=\"text-align: right;\">\n",
       "      <th></th>\n",
       "      <th>client_id</th>\n",
       "      <th>path</th>\n",
       "      <th>sentence</th>\n",
       "      <th>up_votes</th>\n",
       "      <th>down_votes</th>\n",
       "      <th>age</th>\n",
       "      <th>gender</th>\n",
       "      <th>accents</th>\n",
       "      <th>variant</th>\n",
       "      <th>locale</th>\n",
       "      <th>segment</th>\n",
       "    </tr>\n",
       "  </thead>\n",
       "  <tbody>\n",
       "    <tr>\n",
       "      <th>0</th>\n",
       "      <td>0133d8ddf5c1a3c678fde017e0b07d2835bfd707d5b3ec...</td>\n",
       "      <td>common_voice_sw_31428161.mp3</td>\n",
       "      <td>wachambuzi wa soka wanamtaja Messi kama nyota ...</td>\n",
       "      <td>2</td>\n",
       "      <td>0</td>\n",
       "      <td>twenties</td>\n",
       "      <td>female</td>\n",
       "      <td>NaN</td>\n",
       "      <td>NaN</td>\n",
       "      <td>sw</td>\n",
       "      <td>NaN</td>\n",
       "    </tr>\n",
       "    <tr>\n",
       "      <th>1</th>\n",
       "      <td>41ba4752c376dc7f0502f9c97728bf2f54e47972f3b6e4...</td>\n",
       "      <td>common_voice_sw_30356664.mp3</td>\n",
       "      <td>wachambuzi wa soka wanamtaja Messi kama nyota ...</td>\n",
       "      <td>2</td>\n",
       "      <td>0</td>\n",
       "      <td>fourties</td>\n",
       "      <td>female</td>\n",
       "      <td>NaN</td>\n",
       "      <td>NaN</td>\n",
       "      <td>sw</td>\n",
       "      <td>NaN</td>\n",
       "    </tr>\n",
       "    <tr>\n",
       "      <th>2</th>\n",
       "      <td>01c95772efd3fbe4a1122206c7474c77ed6591c8c9fb00...</td>\n",
       "      <td>common_voice_sw_30317714.mp3</td>\n",
       "      <td>romario aliingia kwenye orodha ya wachezaji wa...</td>\n",
       "      <td>2</td>\n",
       "      <td>1</td>\n",
       "      <td>NaN</td>\n",
       "      <td>NaN</td>\n",
       "      <td>NaN</td>\n",
       "      <td>NaN</td>\n",
       "      <td>sw</td>\n",
       "      <td>NaN</td>\n",
       "    </tr>\n",
       "    <tr>\n",
       "      <th>3</th>\n",
       "      <td>055aa825d52f0b81c0861c88ba4999b8bf91b92e90866c...</td>\n",
       "      <td>common_voice_sw_30055356.mp3</td>\n",
       "      <td>romario aliingia kwenye orodha ya wachezaji wa...</td>\n",
       "      <td>2</td>\n",
       "      <td>1</td>\n",
       "      <td>twenties</td>\n",
       "      <td>female</td>\n",
       "      <td>NaN</td>\n",
       "      <td>NaN</td>\n",
       "      <td>sw</td>\n",
       "      <td>NaN</td>\n",
       "    </tr>\n",
       "    <tr>\n",
       "      <th>4</th>\n",
       "      <td>0244639ffd7ec755a01b21ea204735ca3c44443e9cf46c...</td>\n",
       "      <td>common_voice_sw_29002392.mp3</td>\n",
       "      <td>Inajulikana kama shina la Warangi.</td>\n",
       "      <td>2</td>\n",
       "      <td>0</td>\n",
       "      <td>NaN</td>\n",
       "      <td>NaN</td>\n",
       "      <td>NaN</td>\n",
       "      <td>NaN</td>\n",
       "      <td>sw</td>\n",
       "      <td>NaN</td>\n",
       "    </tr>\n",
       "  </tbody>\n",
       "</table>\n",
       "</div>"
      ],
      "text/plain": [
       "                                           client_id  \\\n",
       "0  0133d8ddf5c1a3c678fde017e0b07d2835bfd707d5b3ec...   \n",
       "1  41ba4752c376dc7f0502f9c97728bf2f54e47972f3b6e4...   \n",
       "2  01c95772efd3fbe4a1122206c7474c77ed6591c8c9fb00...   \n",
       "3  055aa825d52f0b81c0861c88ba4999b8bf91b92e90866c...   \n",
       "4  0244639ffd7ec755a01b21ea204735ca3c44443e9cf46c...   \n",
       "\n",
       "                           path  \\\n",
       "0  common_voice_sw_31428161.mp3   \n",
       "1  common_voice_sw_30356664.mp3   \n",
       "2  common_voice_sw_30317714.mp3   \n",
       "3  common_voice_sw_30055356.mp3   \n",
       "4  common_voice_sw_29002392.mp3   \n",
       "\n",
       "                                            sentence  up_votes  down_votes  \\\n",
       "0  wachambuzi wa soka wanamtaja Messi kama nyota ...         2           0   \n",
       "1  wachambuzi wa soka wanamtaja Messi kama nyota ...         2           0   \n",
       "2  romario aliingia kwenye orodha ya wachezaji wa...         2           1   \n",
       "3  romario aliingia kwenye orodha ya wachezaji wa...         2           1   \n",
       "4                 Inajulikana kama shina la Warangi.         2           0   \n",
       "\n",
       "        age  gender accents variant locale  segment  \n",
       "0  twenties  female     NaN     NaN     sw      NaN  \n",
       "1  fourties  female     NaN     NaN     sw      NaN  \n",
       "2       NaN     NaN     NaN     NaN     sw      NaN  \n",
       "3  twenties  female     NaN     NaN     sw      NaN  \n",
       "4       NaN     NaN     NaN     NaN     sw      NaN  "
      ]
     },
     "execution_count": 1,
     "metadata": {},
     "output_type": "execute_result"
    }
   ],
   "source": [
    "# Importing the relevant libraries\n",
    "import pandas as pd\n",
    "# Loading the dataset with transcirpitions\n",
    "transcriptions = pd.read_csv(\"train.tsv\",sep =\"\\t\",low_memory = False)\n",
    "transcriptions.head(5)"
   ]
  },
  {
   "cell_type": "code",
   "execution_count": 2,
   "id": "48c90443",
   "metadata": {},
   "outputs": [
    {
     "name": "stdout",
     "output_type": "stream",
     "text": [
      "82070\n"
     ]
    }
   ],
   "source": [
    "# Exploring the length of the tsv file\n",
    "print(len(transcriptions))"
   ]
  },
  {
   "cell_type": "code",
   "execution_count": 3,
   "id": "d28cdee4",
   "metadata": {},
   "outputs": [
    {
     "data": {
      "text/plain": [
       "26616"
      ]
     },
     "execution_count": 3,
     "metadata": {},
     "output_type": "execute_result"
    }
   ],
   "source": [
    "# Exploring how many transcriptions have down votes greater than zero\n",
    "len(transcriptions[transcriptions[\"down_votes\"]>0])"
   ]
  },
  {
   "cell_type": "code",
   "execution_count": 4,
   "id": "95dc806d",
   "metadata": {},
   "outputs": [
    {
     "data": {
      "text/plain": [
       "3845"
      ]
     },
     "execution_count": 4,
     "metadata": {},
     "output_type": "execute_result"
    }
   ],
   "source": [
    "# Exploring how many transcriptions have down votes greater than one\n",
    "len(transcriptions[transcriptions[\"down_votes\"]>1])"
   ]
  },
  {
   "cell_type": "code",
   "execution_count": 5,
   "id": "6d2c5fd3",
   "metadata": {},
   "outputs": [
    {
     "data": {
      "text/plain": [
       "1271"
      ]
     },
     "execution_count": 5,
     "metadata": {},
     "output_type": "execute_result"
    }
   ],
   "source": [
    "# Exploring how many transcriptions have down votes greater than two\n",
    "len(transcriptions[transcriptions[\"down_votes\"]>2])"
   ]
  },
  {
   "cell_type": "code",
   "execution_count": 6,
   "id": "ccb337fc",
   "metadata": {},
   "outputs": [
    {
     "data": {
      "text/html": [
       "<div>\n",
       "<style scoped>\n",
       "    .dataframe tbody tr th:only-of-type {\n",
       "        vertical-align: middle;\n",
       "    }\n",
       "\n",
       "    .dataframe tbody tr th {\n",
       "        vertical-align: top;\n",
       "    }\n",
       "\n",
       "    .dataframe thead th {\n",
       "        text-align: right;\n",
       "    }\n",
       "</style>\n",
       "<table border=\"1\" class=\"dataframe\">\n",
       "  <thead>\n",
       "    <tr style=\"text-align: right;\">\n",
       "      <th></th>\n",
       "      <th>client_id</th>\n",
       "      <th>path</th>\n",
       "      <th>sentence</th>\n",
       "      <th>up_votes</th>\n",
       "      <th>down_votes</th>\n",
       "      <th>age</th>\n",
       "      <th>gender</th>\n",
       "      <th>accents</th>\n",
       "      <th>variant</th>\n",
       "      <th>locale</th>\n",
       "      <th>segment</th>\n",
       "    </tr>\n",
       "  </thead>\n",
       "  <tbody>\n",
       "  </tbody>\n",
       "</table>\n",
       "</div>"
      ],
      "text/plain": [
       "Empty DataFrame\n",
       "Columns: [client_id, path, sentence, up_votes, down_votes, age, gender, accents, variant, locale, segment]\n",
       "Index: []"
      ]
     },
     "execution_count": 6,
     "metadata": {},
     "output_type": "execute_result"
    }
   ],
   "source": [
    "transcriptions[transcriptions[\"up_votes\"]==0]"
   ]
  },
  {
   "cell_type": "code",
   "execution_count": 7,
   "id": "8cc0d8ae",
   "metadata": {},
   "outputs": [
    {
     "data": {
      "text/html": [
       "<div>\n",
       "<style scoped>\n",
       "    .dataframe tbody tr th:only-of-type {\n",
       "        vertical-align: middle;\n",
       "    }\n",
       "\n",
       "    .dataframe tbody tr th {\n",
       "        vertical-align: top;\n",
       "    }\n",
       "\n",
       "    .dataframe thead th {\n",
       "        text-align: right;\n",
       "    }\n",
       "</style>\n",
       "<table border=\"1\" class=\"dataframe\">\n",
       "  <thead>\n",
       "    <tr style=\"text-align: right;\">\n",
       "      <th></th>\n",
       "      <th>client_id</th>\n",
       "      <th>path</th>\n",
       "      <th>sentence</th>\n",
       "      <th>up_votes</th>\n",
       "      <th>down_votes</th>\n",
       "      <th>age</th>\n",
       "      <th>gender</th>\n",
       "      <th>accents</th>\n",
       "      <th>variant</th>\n",
       "      <th>locale</th>\n",
       "      <th>segment</th>\n",
       "    </tr>\n",
       "  </thead>\n",
       "  <tbody>\n",
       "  </tbody>\n",
       "</table>\n",
       "</div>"
      ],
      "text/plain": [
       "Empty DataFrame\n",
       "Columns: [client_id, path, sentence, up_votes, down_votes, age, gender, accents, variant, locale, segment]\n",
       "Index: []"
      ]
     },
     "execution_count": 7,
     "metadata": {},
     "output_type": "execute_result"
    }
   ],
   "source": [
    "transcriptions[transcriptions[\"up_votes\"]==1]"
   ]
  },
  {
   "cell_type": "markdown",
   "id": "c12fbc96",
   "metadata": {},
   "source": [
    "From the above outputs it can be seen that all audios have an up_vote greater than one. However, on sampling some of the audios with down_votes it can be realised that most audios with down_votes of two or less are okay. However, one audio with a down_vote of five seemed to have a lot of noise. Therefore, as a rule of thumb, we can avoid audios with a down_vote greater than two."
   ]
  },
  {
   "cell_type": "code",
   "execution_count": 8,
   "id": "8101124c",
   "metadata": {},
   "outputs": [
    {
     "data": {
      "text/plain": [
       "twenties    36762\n",
       "thirties     7462\n",
       "fourties     4001\n",
       "fifties      3865\n",
       "sixties       506\n",
       "teens         100\n",
       "Name: age, dtype: int64"
      ]
     },
     "execution_count": 8,
     "metadata": {},
     "output_type": "execute_result"
    }
   ],
   "source": [
    "# Exploring the variability of the dataset on the basis of age\n",
    "transcriptions['age'].value_counts()"
   ]
  },
  {
   "cell_type": "code",
   "execution_count": 9,
   "id": "46204c83",
   "metadata": {},
   "outputs": [
    {
     "data": {
      "text/plain": [
       "<Axes: >"
      ]
     },
     "execution_count": 9,
     "metadata": {},
     "output_type": "execute_result"
    },
    {
     "data": {
      "image/png": "[encoded data removed]",
      "text/plain": [
       "<Figure size 640x480 with 1 Axes>"
      ]
     },
     "metadata": {},
     "output_type": "display_data"
    }
   ],
   "source": [
    "# Plotting the variability on the basis of age\n",
    "transcriptions['age'].value_counts().plot(kind='bar',grid=True,colormap='winter')"
   ]
  },
  {
   "cell_type": "markdown",
   "id": "9775d162",
   "metadata": {},
   "source": [
    "The data seems to be diverse and tries to capture the voices of most age groups.However the teens and sixties audios are not that much."
   ]
  },
  {
   "cell_type": "code",
   "execution_count": 10,
   "id": "6e95ebb7",
   "metadata": {},
   "outputs": [
    {
     "data": {
      "text/plain": [
       "female    30325\n",
       "male      23549\n",
       "other        36\n",
       "Name: gender, dtype: int64"
      ]
     },
     "execution_count": 10,
     "metadata": {},
     "output_type": "execute_result"
    }
   ],
   "source": [
    "# Exploring the variability of the dataset on the basis of gender\n",
    "transcriptions['gender'].value_counts()"
   ]
  },
  {
   "cell_type": "code",
   "execution_count": 11,
   "id": "50db1e60",
   "metadata": {},
   "outputs": [
    {
     "data": {
      "text/plain": [
       "<Axes: >"
      ]
     },
     "execution_count": 11,
     "metadata": {},
     "output_type": "execute_result"
    },
    {
     "data": {
      "image/png": "[encoded data removed]",
      "text/plain": [
       "<Figure size 640x480 with 1 Axes>"
      ]
     },
     "metadata": {},
     "output_type": "display_data"
    }
   ],
   "source": [
    "# Plotting the variability of the dataset on the basis of gender\n",
    "transcriptions['gender'].value_counts().plot(kind='bar',grid=True,colormap='winter')"
   ]
  },
  {
   "cell_type": "markdown",
   "id": "66f7efe0",
   "metadata": {},
   "source": [
    "The data captures the gender audiod in a seemingly unbiased manner"
   ]
  },
  {
   "cell_type": "code",
   "execution_count": 12,
   "id": "2d5d2821",
   "metadata": {},
   "outputs": [
    {
     "data": {
      "text/plain": [
       "array(['sw'], dtype=object)"
      ]
     },
     "execution_count": 12,
     "metadata": {},
     "output_type": "execute_result"
    }
   ],
   "source": [
    "# Exploring to see if the dataset contains audios with a different locale than Swahili\n",
    "transcriptions['locale'].unique()"
   ]
  },
  {
   "cell_type": "markdown",
   "id": "4ffb0e04",
   "metadata": {},
   "source": [
    "Only Swahili audios are used as it should be, since we are building a Swahili ASR "
   ]
  },
  {
   "cell_type": "markdown",
   "id": "6cf777d6",
   "metadata": {},
   "source": [
    "### Data preprocessing"
   ]
  },
  {
   "cell_type": "code",
   "execution_count": 13,
   "id": "32ecfe08",
   "metadata": {},
   "outputs": [
    {
     "data": {
      "text/html": [
       "<div>\n",
       "<style scoped>\n",
       "    .dataframe tbody tr th:only-of-type {\n",
       "        vertical-align: middle;\n",
       "    }\n",
       "\n",
       "    .dataframe tbody tr th {\n",
       "        vertical-align: top;\n",
       "    }\n",
       "\n",
       "    .dataframe thead th {\n",
       "        text-align: right;\n",
       "    }\n",
       "</style>\n",
       "<table border=\"1\" class=\"dataframe\">\n",
       "  <thead>\n",
       "    <tr style=\"text-align: right;\">\n",
       "      <th></th>\n",
       "      <th>client_id</th>\n",
       "      <th>path</th>\n",
       "      <th>sentence</th>\n",
       "      <th>up_votes</th>\n",
       "      <th>down_votes</th>\n",
       "      <th>age</th>\n",
       "      <th>gender</th>\n",
       "      <th>accents</th>\n",
       "      <th>variant</th>\n",
       "      <th>locale</th>\n",
       "      <th>segment</th>\n",
       "    </tr>\n",
       "  </thead>\n",
       "  <tbody>\n",
       "    <tr>\n",
       "      <th>0</th>\n",
       "      <td>0133d8ddf5c1a3c678fde017e0b07d2835bfd707d5b3ec...</td>\n",
       "      <td>common_voice_sw_31428161.mp3</td>\n",
       "      <td>wachambuzi wa soka wanamtaja Messi kama nyota ...</td>\n",
       "      <td>2</td>\n",
       "      <td>0</td>\n",
       "      <td>twenties</td>\n",
       "      <td>female</td>\n",
       "      <td>NaN</td>\n",
       "      <td>NaN</td>\n",
       "      <td>sw</td>\n",
       "      <td>NaN</td>\n",
       "    </tr>\n",
       "    <tr>\n",
       "      <th>1</th>\n",
       "      <td>41ba4752c376dc7f0502f9c97728bf2f54e47972f3b6e4...</td>\n",
       "      <td>common_voice_sw_30356664.mp3</td>\n",
       "      <td>wachambuzi wa soka wanamtaja Messi kama nyota ...</td>\n",
       "      <td>2</td>\n",
       "      <td>0</td>\n",
       "      <td>fourties</td>\n",
       "      <td>female</td>\n",
       "      <td>NaN</td>\n",
       "      <td>NaN</td>\n",
       "      <td>sw</td>\n",
       "      <td>NaN</td>\n",
       "    </tr>\n",
       "    <tr>\n",
       "      <th>2</th>\n",
       "      <td>01c95772efd3fbe4a1122206c7474c77ed6591c8c9fb00...</td>\n",
       "      <td>common_voice_sw_30317714.mp3</td>\n",
       "      <td>romario aliingia kwenye orodha ya wachezaji wa...</td>\n",
       "      <td>2</td>\n",
       "      <td>1</td>\n",
       "      <td>NaN</td>\n",
       "      <td>NaN</td>\n",
       "      <td>NaN</td>\n",
       "      <td>NaN</td>\n",
       "      <td>sw</td>\n",
       "      <td>NaN</td>\n",
       "    </tr>\n",
       "    <tr>\n",
       "      <th>3</th>\n",
       "      <td>055aa825d52f0b81c0861c88ba4999b8bf91b92e90866c...</td>\n",
       "      <td>common_voice_sw_30055356.mp3</td>\n",
       "      <td>romario aliingia kwenye orodha ya wachezaji wa...</td>\n",
       "      <td>2</td>\n",
       "      <td>1</td>\n",
       "      <td>twenties</td>\n",
       "      <td>female</td>\n",
       "      <td>NaN</td>\n",
       "      <td>NaN</td>\n",
       "      <td>sw</td>\n",
       "      <td>NaN</td>\n",
       "    </tr>\n",
       "    <tr>\n",
       "      <th>4</th>\n",
       "      <td>0244639ffd7ec755a01b21ea204735ca3c44443e9cf46c...</td>\n",
       "      <td>common_voice_sw_29002392.mp3</td>\n",
       "      <td>Inajulikana kama shina la Warangi.</td>\n",
       "      <td>2</td>\n",
       "      <td>0</td>\n",
       "      <td>NaN</td>\n",
       "      <td>NaN</td>\n",
       "      <td>NaN</td>\n",
       "      <td>NaN</td>\n",
       "      <td>sw</td>\n",
       "      <td>NaN</td>\n",
       "    </tr>\n",
       "  </tbody>\n",
       "</table>\n",
       "</div>"
      ],
      "text/plain": [
       "                                           client_id  \\\n",
       "0  0133d8ddf5c1a3c678fde017e0b07d2835bfd707d5b3ec...   \n",
       "1  41ba4752c376dc7f0502f9c97728bf2f54e47972f3b6e4...   \n",
       "2  01c95772efd3fbe4a1122206c7474c77ed6591c8c9fb00...   \n",
       "3  055aa825d52f0b81c0861c88ba4999b8bf91b92e90866c...   \n",
       "4  0244639ffd7ec755a01b21ea204735ca3c44443e9cf46c...   \n",
       "\n",
       "                           path  \\\n",
       "0  common_voice_sw_31428161.mp3   \n",
       "1  common_voice_sw_30356664.mp3   \n",
       "2  common_voice_sw_30317714.mp3   \n",
       "3  common_voice_sw_30055356.mp3   \n",
       "4  common_voice_sw_29002392.mp3   \n",
       "\n",
       "                                            sentence  up_votes  down_votes  \\\n",
       "0  wachambuzi wa soka wanamtaja Messi kama nyota ...         2           0   \n",
       "1  wachambuzi wa soka wanamtaja Messi kama nyota ...         2           0   \n",
       "2  romario aliingia kwenye orodha ya wachezaji wa...         2           1   \n",
       "3  romario aliingia kwenye orodha ya wachezaji wa...         2           1   \n",
       "4                 Inajulikana kama shina la Warangi.         2           0   \n",
       "\n",
       "        age  gender accents variant locale  segment  \n",
       "0  twenties  female     NaN     NaN     sw      NaN  \n",
       "1  fourties  female     NaN     NaN     sw      NaN  \n",
       "2       NaN     NaN     NaN     NaN     sw      NaN  \n",
       "3  twenties  female     NaN     NaN     sw      NaN  \n",
       "4       NaN     NaN     NaN     NaN     sw      NaN  "
      ]
     },
     "execution_count": 13,
     "metadata": {},
     "output_type": "execute_result"
    }
   ],
   "source": [
    "# Taking a look at the dataset\n",
    "transcriptions.head()"
   ]
  },
  {
   "cell_type": "code",
   "execution_count": 14,
   "id": "2efafca8",
   "metadata": {},
   "outputs": [],
   "source": [
    "# Dropping irrelevant columns\n",
    "transcriptions.drop(['age','gender','accents','variant','locale','segment'],axis=1,inplace=True)"
   ]
  },
  {
   "cell_type": "code",
   "execution_count": 15,
   "id": "6a4bc381",
   "metadata": {},
   "outputs": [
    {
     "data": {
      "text/plain": [
       "Index(['client_id', 'path', 'sentence', 'up_votes', 'down_votes'], dtype='object')"
      ]
     },
     "execution_count": 15,
     "metadata": {},
     "output_type": "execute_result"
    }
   ],
   "source": [
    "transcriptions.columns"
   ]
  },
  {
   "cell_type": "markdown",
   "id": "d7389b5d",
   "metadata": {},
   "source": [
    "#### Dealing with missing values"
   ]
  },
  {
   "cell_type": "code",
   "execution_count": 16,
   "id": "6e2d5114",
   "metadata": {},
   "outputs": [
    {
     "data": {
      "text/plain": [
       "client_id     0\n",
       "path          0\n",
       "sentence      0\n",
       "up_votes      0\n",
       "down_votes    0\n",
       "dtype: int64"
      ]
     },
     "execution_count": 16,
     "metadata": {},
     "output_type": "execute_result"
    }
   ],
   "source": [
    "# Checking for missing values\n",
    "transcriptions.isna().sum()"
   ]
  },
  {
   "cell_type": "markdown",
   "id": "2de70ba6",
   "metadata": {},
   "source": [
    "The new dataset has no missing values."
   ]
  },
  {
   "cell_type": "markdown",
   "id": "cc85a9be",
   "metadata": {},
   "source": [
    "#### Dealing with duplicates"
   ]
  },
  {
   "cell_type": "markdown",
   "id": "793f0ea6",
   "metadata": {},
   "source": [
    "While duplicated data can be advantageuous since it helps increase the size of the dataset, it can result in a biased model in extreme situations.We can define a duplicate has having the same client_id sentence and or path. We will therefore check for duplicates while subsetting it to the said columns.If there are duplicates in extreme levels we will have to drop them."
   ]
  },
  {
   "cell_type": "code",
   "execution_count": 17,
   "id": "10e68482",
   "metadata": {},
   "outputs": [
    {
     "data": {
      "text/plain": [
       "0"
      ]
     },
     "execution_count": 17,
     "metadata": {},
     "output_type": "execute_result"
    }
   ],
   "source": [
    "# Checking for duplicates with client_id and sentence as the subset\n",
    "transcriptions.duplicated(subset=['client_id','sentence']).sum()"
   ]
  },
  {
   "cell_type": "code",
   "execution_count": 18,
   "id": "ac2bc95e",
   "metadata": {},
   "outputs": [
    {
     "data": {
      "text/plain": [
       "0"
      ]
     },
     "execution_count": 18,
     "metadata": {},
     "output_type": "execute_result"
    }
   ],
   "source": [
    "# Checking for duplicates with path as the subset\n",
    "transcriptions.duplicated(subset=['path']).sum()"
   ]
  },
  {
   "cell_type": "markdown",
   "id": "b672981f",
   "metadata": {},
   "source": [
    "The dataset has no duplicates. We can now create a dataframe containing only the transcriptions(text) and the path."
   ]
  },
  {
   "cell_type": "code",
   "execution_count": 19,
   "id": "b4e7ad34",
   "metadata": {},
   "outputs": [
    {
     "data": {
      "text/html": [
       "<div>\n",
       "<style scoped>\n",
       "    .dataframe tbody tr th:only-of-type {\n",
       "        vertical-align: middle;\n",
       "    }\n",
       "\n",
       "    .dataframe tbody tr th {\n",
       "        vertical-align: top;\n",
       "    }\n",
       "\n",
       "    .dataframe thead th {\n",
       "        text-align: right;\n",
       "    }\n",
       "</style>\n",
       "<table border=\"1\" class=\"dataframe\">\n",
       "  <thead>\n",
       "    <tr style=\"text-align: right;\">\n",
       "      <th></th>\n",
       "      <th>sentence</th>\n",
       "      <th>path</th>\n",
       "    </tr>\n",
       "  </thead>\n",
       "  <tbody>\n",
       "    <tr>\n",
       "      <th>0</th>\n",
       "      <td>wachambuzi wa soka wanamtaja Messi kama nyota ...</td>\n",
       "      <td>common_voice_sw_31428161.mp3</td>\n",
       "    </tr>\n",
       "    <tr>\n",
       "      <th>1</th>\n",
       "      <td>wachambuzi wa soka wanamtaja Messi kama nyota ...</td>\n",
       "      <td>common_voice_sw_30356664.mp3</td>\n",
       "    </tr>\n",
       "    <tr>\n",
       "      <th>2</th>\n",
       "      <td>romario aliingia kwenye orodha ya wachezaji wa...</td>\n",
       "      <td>common_voice_sw_30317714.mp3</td>\n",
       "    </tr>\n",
       "    <tr>\n",
       "      <th>3</th>\n",
       "      <td>romario aliingia kwenye orodha ya wachezaji wa...</td>\n",
       "      <td>common_voice_sw_30055356.mp3</td>\n",
       "    </tr>\n",
       "    <tr>\n",
       "      <th>4</th>\n",
       "      <td>Inajulikana kama shina la Warangi.</td>\n",
       "      <td>common_voice_sw_29002392.mp3</td>\n",
       "    </tr>\n",
       "  </tbody>\n",
       "</table>\n",
       "</div>"
      ],
      "text/plain": [
       "                                            sentence  \\\n",
       "0  wachambuzi wa soka wanamtaja Messi kama nyota ...   \n",
       "1  wachambuzi wa soka wanamtaja Messi kama nyota ...   \n",
       "2  romario aliingia kwenye orodha ya wachezaji wa...   \n",
       "3  romario aliingia kwenye orodha ya wachezaji wa...   \n",
       "4                 Inajulikana kama shina la Warangi.   \n",
       "\n",
       "                           path  \n",
       "0  common_voice_sw_31428161.mp3  \n",
       "1  common_voice_sw_30356664.mp3  \n",
       "2  common_voice_sw_30317714.mp3  \n",
       "3  common_voice_sw_30055356.mp3  \n",
       "4  common_voice_sw_29002392.mp3  "
      ]
     },
     "execution_count": 19,
     "metadata": {},
     "output_type": "execute_result"
    }
   ],
   "source": [
    "transcriptions_df = pd.DataFrame(transcriptions[['sentence','path']])\n",
    "transcriptions_df.head()"
   ]
  },
  {
   "cell_type": "code",
   "execution_count": null,
   "id": "0b892214",
   "metadata": {},
   "outputs": [],
   "source": []
  }
 ],
 "metadata": {
  "kernelspec": {
   "display_name": "Python 3 (ipykernel)",
   "language": "python",
   "name": "python3"
  },
  "language_info": {
   "codemirror_mode": {
    "name": "ipython",
    "version": 3
   },
   "file_extension": ".py",
   "mimetype": "text/x-python",
   "name": "python",
   "nbconvert_exporter": "python",
   "pygments_lexer": "ipython3",
   "version": "3.10.11"
  }
 },
 "nbformat": 4,
 "nbformat_minor": 5
}
